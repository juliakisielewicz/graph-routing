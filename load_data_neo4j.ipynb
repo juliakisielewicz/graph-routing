{
 "cells": [
  {
   "cell_type": "code",
   "execution_count": 1,
   "id": "ff9920e7-9df4-41b2-b0a2-caed4a0df827",
   "metadata": {},
   "outputs": [],
   "source": [
    "import neo4j\n",
    "import pandas as pd\n",
    "import geopy.distance"
   ]
  },
  {
   "cell_type": "markdown",
   "id": "c8e062dc",
   "metadata": {},
   "source": [
    "### Search for good osmid pairs"
   ]
  },
  {
   "attachments": {},
   "cell_type": "markdown",
   "id": "75c11976-19d6-4284-aebf-a77c51311160",
   "metadata": {},
   "source": [
    "## Neo4j Import"
   ]
  },
  {
   "cell_type": "code",
   "execution_count": 2,
   "id": "57845fbe",
   "metadata": {},
   "outputs": [],
   "source": [
    "NEO4J_URI = \"bolt://localhost:7687\"\n",
    "NEO4J_USER = \"neo4j\"\n",
    "NEO4J_PASSWORD = \"krakow123\"\n",
    "NEO4J_DATABASE = \"neo4j\"\n",
    "\n",
    "driver = neo4j.GraphDatabase.driver(NEO4J_URI, auth=(NEO4J_USER, NEO4J_PASSWORD), database=NEO4J_DATABASE)"
   ]
  },
  {
   "cell_type": "code",
   "execution_count": 3,
   "id": "0ae078ac-f626-4c1b-aa42-db18298bccf4",
   "metadata": {},
   "outputs": [],
   "source": [
    "clear_data_query = \"\"\"\n",
    "    MATCH (n) \n",
    "    CALL {\n",
    "        WITH n\n",
    "        DETACH DELETE n\n",
    "    } IN TRANSACTIONS OF 100000 ROWS\n",
    "\"\"\"\n",
    "\n",
    "clear_indexes_and_constrains = \"CALL apoc.schema.assert({}, {}, true) YIELD label, key RETURN *\"\n",
    "\n",
    "node_constraint_query = \"CREATE CONSTRAINT IF NOT EXISTS FOR (i:Intersection) REQUIRE i.osmid IS UNIQUE\"\n",
    "\n",
    "rel_index_query = \"CREATE INDEX IF NOT EXISTS FOR ()-[r:ROAD_SEGMENT]-() ON r.osmid\"\n",
    "distance_index_query = \"CREATE INDEX IF NOT EXISTS FOR (i:Intersection) ON i.distance\"\n",
    "\n",
    "# TODO: remember ro copy files to import folder in neo4j and change filenames in query\n",
    "\n",
    "nodes_csv_load = \"\"\"\n",
    "    LOAD CSV WITH HEADERS FROM \"file:///nodes_neo4j.csv\" AS row\n",
    "    CALL {\n",
    "        WITH row\n",
    "        MERGE (i:Intersection {osmid: toInteger(row.osmid)})\n",
    "        SET i.latitude = toFloat(row.y), \n",
    "            i.longitude = toFloat(row.x),\n",
    "            i.distance = toInteger(row.distance)\n",
    "    } IN TRANSACTIONS OF 50000 ROWS\n",
    "    RETURN COUNT(*) as total\n",
    "    \"\"\"\n",
    "    \n",
    "relationships_csv_load = \"\"\"\n",
    "    LOAD CSV WITH HEADERS FROM \"file:///relationships_neo4j.csv\" AS row\n",
    "    CALL {\n",
    "        WITH row\n",
    "        MATCH (from:Intersection {osmid: toInteger(row.source)})\n",
    "        MATCH (to:Intersection {osmid: toInteger(row.target)})\n",
    "        MERGE (from)-[r:ROAD_SEGMENT {osmid: toInteger(row.osmid)}]->(to)\n",
    "        SET r.length = toFloat(row.length),\n",
    "            r.name = row.name,\n",
    "            r.highway = row.highway\n",
    "    } IN TRANSACTIONS OF 50000 ROWS\n",
    "    RETURN COUNT(*) AS total\n",
    "    \"\"\"\n"
   ]
  },
  {
   "cell_type": "code",
   "execution_count": 4,
   "metadata": {},
   "outputs": [],
   "source": [
    "def print_result(results):\n",
    "    result = [dict(i) for i in results]\n",
    "    print(result)\n",
    "    \n",
    "    result_all = results.consume()\n",
    "    print(f\"result_consumed_after: {result_all.result_consumed_after} ms\")\n",
    "    print(f\"result_available_after: {result_all.result_available_after} ms\\n\")"
   ]
  },
  {
   "cell_type": "code",
   "execution_count": 5,
   "id": "511e9fde",
   "metadata": {},
   "outputs": [],
   "source": [
    "def clear_indexes(tx):\n",
    "    results = tx.run(clear_indexes_and_constrains)\n",
    "    print_result(results)"
   ]
  },
  {
   "cell_type": "code",
   "execution_count": 6,
   "id": "3272bd16-121e-4863-94b5-c201c579df78",
   "metadata": {},
   "outputs": [],
   "source": [
    "def create_constraints(tx):\n",
    "    results = tx.run(node_constraint_query)\n",
    "    print_result(results)\n",
    "\n",
    "    results = tx.run(rel_index_query)\n",
    "    print_result(results)\n",
    "    \n",
    "    results = tx.run(distance_index_query)\n",
    "    print_result(results)"
   ]
  },
  {
   "cell_type": "markdown",
   "id": "3cf79421",
   "metadata": {},
   "source": [
    "### Clear database"
   ]
  },
  {
   "cell_type": "code",
   "execution_count": 7,
   "id": "a662a8d7",
   "metadata": {},
   "outputs": [
    {
     "name": "stdout",
     "output_type": "stream",
     "text": [
      "[]\n",
      "result_consumed_after: 0 ms\n",
      "result_available_after: 222 ms\n",
      "\n",
      "[]\n",
      "result_consumed_after: 15 ms\n",
      "result_available_after: 57 ms\n",
      "\n"
     ]
    }
   ],
   "source": [
    "with driver.session() as session:\n",
    "    results = session.run(clear_data_query)\n",
    "    print_result(results)\n",
    "    \n",
    "with driver.session() as session:\n",
    "    session.execute_write(clear_indexes)"
   ]
  },
  {
   "cell_type": "markdown",
   "id": "a5661f52",
   "metadata": {},
   "source": [
    "### Create constraints"
   ]
  },
  {
   "cell_type": "code",
   "execution_count": 8,
   "id": "5a9b4106",
   "metadata": {},
   "outputs": [
    {
     "name": "stdout",
     "output_type": "stream",
     "text": [
      "[]\n",
      "result_consumed_after: 0 ms\n",
      "result_available_after: 333 ms\n",
      "\n",
      "[]\n",
      "result_consumed_after: 0 ms\n",
      "result_available_after: 31 ms\n",
      "\n",
      "[]\n",
      "result_consumed_after: 0 ms\n",
      "result_available_after: 16 ms\n",
      "\n"
     ]
    }
   ],
   "source": [
    "with driver.session() as session:\n",
    "    session.execute_write(create_constraints)"
   ]
  },
  {
   "cell_type": "markdown",
   "id": "0a49ae6f",
   "metadata": {},
   "source": [
    "### Load data"
   ]
  },
  {
   "cell_type": "code",
   "execution_count": 9,
   "metadata": {},
   "outputs": [
    {
     "name": "stdout",
     "output_type": "stream",
     "text": [
      "[{'total': 13811811}]\n",
      "result_consumed_after: 372132 ms\n",
      "result_available_after: 258 ms\n",
      "\n"
     ]
    }
   ],
   "source": [
    "with driver.session() as session:\n",
    "    results = session.run(nodes_csv_load)\n",
    "    print_result(results)"
   ]
  },
  {
   "cell_type": "code",
   "execution_count": 10,
   "metadata": {},
   "outputs": [
    {
     "name": "stdout",
     "output_type": "stream",
     "text": [
      "[{'total': 28776032}]\n",
      "result_consumed_after: 1655348 ms\n",
      "result_available_after: 346 ms\n",
      "\n"
     ]
    }
   ],
   "source": [
    "with driver.session() as session:\n",
    "    results = session.run(relationships_csv_load)\n",
    "    print_result(results)"
   ]
  },
  {
   "cell_type": "markdown",
   "id": "0928d25b",
   "metadata": {},
   "source": [
    "### Search queries"
   ]
  },
  {
   "cell_type": "markdown",
   "metadata": {},
   "source": [
    "```\n",
    "EXPLAIN PROFILE\n",
    "```"
   ]
  },
  {
   "cell_type": "code",
   "execution_count": 11,
   "id": "c61936a0",
   "metadata": {},
   "outputs": [],
   "source": [
    "def dijkstra_query(tx, osmid_1, osmid_2):\n",
    "    dijkstra_query_string = f\"\"\"\n",
    "        MATCH (source:Intersection {{osmid: {osmid_1}}}) \n",
    "        MATCH (target:Intersection {{osmid: {osmid_2}}})\n",
    "        CALL apoc.algo.dijkstra(source, target, \"\", \"length\")\n",
    "        YIELD path, weight\n",
    "        RETURN path, weight\n",
    "        \"\"\"\n",
    "    print(dijkstra_query_string)\n",
    "    results = tx.run(dijkstra_query_string)\n",
    "    print_result(results)"
   ]
  },
  {
   "cell_type": "code",
   "execution_count": 12,
   "metadata": {},
   "outputs": [],
   "source": [
    "def astar_query(tx, osmid_1, osmid_2):\n",
    "    astar_query_string = f\"\"\"\n",
    "        MATCH (source:Intersection {{osmid: {osmid_1}}}) \n",
    "        MATCH (target:Intersection {{osmid: {osmid_2}}})\n",
    "        CALL apoc.algo.aStar(source, target, \"\", \"length\", \"latitude\", \"longitude\")\n",
    "        YIELD path, weight\n",
    "        RETURN path, weight\n",
    "        \"\"\"\n",
    "    print(astar_query_string)\n",
    "    results = tx.run(astar_query_string)\n",
    "    print_result(results)"
   ]
  },
  {
   "cell_type": "code",
   "execution_count": 14,
   "metadata": {},
   "outputs": [],
   "source": [
    "gdf_nodes = pd.read_csv(\"d:/AGH/NOVA/dm/data/krakow_30/nodes_neo4j.csv\")"
   ]
  },
  {
   "cell_type": "code",
   "execution_count": 15,
   "metadata": {},
   "outputs": [
    {
     "name": "stdout",
     "output_type": "stream",
     "text": [
      "osmid_1: 2271235782, osmid_2: 7036947138, distance: 44.44996557714789 km\n"
     ]
    }
   ],
   "source": [
    "# two random osmid\n",
    "distance = 0\n",
    "\n",
    "while distance < 25:\n",
    "    start_and_finish = gdf_nodes.sample(2)\n",
    "\n",
    "    osmid_1 = int(start_and_finish.iloc[0][\"osmid\"])\n",
    "    osmid_2 = int(start_and_finish.iloc[1][\"osmid\"])\n",
    "\n",
    "    coords_1 = start_and_finish.iloc[0][\"y\"], start_and_finish.iloc[0][\"x\"]\n",
    "    coords_2 = start_and_finish.iloc[1][\"y\"], start_and_finish.iloc[1][\"x\"]\n",
    "    \n",
    "    distance = geopy.distance.distance(coords_1, coords_2).km\n",
    "\n",
    "print(f\"osmid_1: {osmid_1}, osmid_2: {osmid_2}, distance: {distance} km\")"
   ]
  },
  {
   "cell_type": "code",
   "execution_count": 35,
   "metadata": {},
   "outputs": [],
   "source": [
    "# # zakamycze, betel\n",
    "# node_nr_1 = 356926768\n",
    "# node_nr_2 = 2104495834\n",
    "\n",
    "# random 25km apart\n",
    "node_nr_1 = 357538738\n",
    "node_nr_2 = 9460794927\n",
    "\n",
    "#long distance\n",
    "node_nr_1 = 4538716538\n",
    "node_nr_2 = 432648629\n",
    "\n",
    "# random 300km apart\n",
    "# node_nr_1 = 7576736742\n",
    "# node_nr_2 = 3041989068"
   ]
  },
  {
   "cell_type": "code",
   "execution_count": 36,
   "id": "b2c1f323",
   "metadata": {},
   "outputs": [
    {
     "name": "stdout",
     "output_type": "stream",
     "text": [
      "\n",
      "        MATCH (source:Intersection {osmid: 4538716538}) \n",
      "        MATCH (target:Intersection {osmid: 432648629})\n",
      "        CALL apoc.algo.dijkstra(source, target, \"\", \"length\")\n",
      "        YIELD path, weight\n",
      "        RETURN path, weight\n",
      "        \n",
      "[{'path': <Path start=<Node element_id='4:13cda273-def0-4740-9b9a-bb3ab19f712a:3002880' labels=frozenset({'Intersection'}) properties={'distance': 2, 'osmid': 4538716538, 'latitude': 50.8102762, 'longitude': 19.1043495}> end=<Node element_id='4:13cda273-def0-4740-9b9a-bb3ab19f712a:7016244' labels=frozenset({'Intersection'}) properties={'distance': 1, 'osmid': 432648629, 'latitude': 49.6197581, 'longitude': 20.6938179}> size=6479>, 'weight': 197753.47900000022}]\n",
      "result_consumed_after: 592225 ms\n",
      "result_available_after: 90 ms\n",
      "\n"
     ]
    }
   ],
   "source": [
    "with driver.session() as session:\n",
    "    session.execute_write(dijkstra_query, node_nr_1, node_nr_2)"
   ]
  },
  {
   "cell_type": "code",
   "execution_count": 34,
   "metadata": {},
   "outputs": [
    {
     "name": "stdout",
     "output_type": "stream",
     "text": [
      "\n",
      "        MATCH (source:Intersection {osmid: 4538716538}) \n",
      "        MATCH (target:Intersection {osmid: 432648629})\n",
      "        CALL apoc.algo.aStar(source, target, \"\", \"length\", \"latitude\", \"longitude\")\n",
      "        YIELD path, weight\n",
      "        RETURN path, weight\n",
      "        \n",
      "[{'path': <Path start=<Node element_id='4:13cda273-def0-4740-9b9a-bb3ab19f712a:3002880' labels=frozenset({'Intersection'}) properties={'distance': 2, 'osmid': 4538716538, 'latitude': 50.8102762, 'longitude': 19.1043495}> end=<Node element_id='4:13cda273-def0-4740-9b9a-bb3ab19f712a:7016244' labels=frozenset({'Intersection'}) properties={'distance': 1, 'osmid': 432648629, 'latitude': 49.6197581, 'longitude': 20.6938179}> size=6479>, 'weight': 197753.47900000022}]\n",
      "result_consumed_after: 11104 ms\n",
      "result_available_after: 28 ms\n",
      "\n"
     ]
    }
   ],
   "source": [
    "with driver.session() as session:\n",
    "    session.execute_write(astar_query, node_nr_1, node_nr_2)"
   ]
  },
  {
   "cell_type": "code",
   "execution_count": null,
   "metadata": {},
   "outputs": [],
   "source": []
  }
 ],
 "metadata": {
  "kernelspec": {
   "display_name": "Python 3 (ipykernel)",
   "language": "python",
   "name": "python3"
  },
  "language_info": {
   "codemirror_mode": {
    "name": "ipython",
    "version": 3
   },
   "file_extension": ".py",
   "mimetype": "text/x-python",
   "name": "python",
   "nbconvert_exporter": "python",
   "pygments_lexer": "ipython3",
   "version": "3.10.11"
  }
 },
 "nbformat": 4,
 "nbformat_minor": 5
}
