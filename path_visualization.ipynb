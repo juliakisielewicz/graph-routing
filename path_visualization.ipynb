{
 "cells": [
  {
   "cell_type": "code",
   "execution_count": 16,
   "metadata": {},
   "outputs": [],
   "source": [
    "import pandas as pd\n",
    "import numpy as np\n",
    "import psycopg2"
   ]
  },
  {
   "cell_type": "code",
   "execution_count": 28,
   "metadata": {},
   "outputs": [],
   "source": [
    "conn = psycopg2.connect(\n",
    "    host=\"localhost\",\n",
    "    database=\"krakow_90\",\n",
    "    user=\"postgres\",\n",
    "    password=\"postgres\")\n",
    "\n",
    "conn.autocommit = True\n",
    "cursor = conn.cursor() "
   ]
  },
  {
   "cell_type": "markdown",
   "metadata": {},
   "source": [
    "### undir_short"
   ]
  },
  {
   "cell_type": "code",
   "execution_count": 19,
   "metadata": {},
   "outputs": [],
   "source": [
    "undir_short = \"C:/Users/kisie/Documents/nova-dm/query_results/dijkstra_undir_short.csv\"\n",
    "df = pd.read_csv(undir_short)\n",
    "df['source'] = df['node']\n",
    "df['target'] = df['node'].shift(periods=-1)\n",
    "df = df.dropna()\n",
    "df['target'] = df['target'].astype(np.int64)\n",
    "df[['source', 'target', 'edge']].to_csv('undir_short.csv', index=False)"
   ]
  },
  {
   "cell_type": "code",
   "execution_count": 29,
   "metadata": {},
   "outputs": [],
   "source": [
    "create_undir_short_table = \"\"\"\n",
    "    CREATE TABLE undir_short_path_table (\n",
    "    id BIGSERIAL,\n",
    "    source BIGINT,\n",
    "    target BIGINT,\n",
    "    edge BIGINT\n",
    "    );\n",
    "    \"\"\""
   ]
  },
  {
   "cell_type": "code",
   "execution_count": 30,
   "metadata": {},
   "outputs": [],
   "source": [
    "cursor.execute(create_undir_short_table)"
   ]
  },
  {
   "cell_type": "code",
   "execution_count": 31,
   "metadata": {},
   "outputs": [],
   "source": [
    "my_file = \"C:/Users/kisie/Documents/nova-dm/undir_short.csv\"\n",
    "copy_csv_query = \"COPY undir_short_path_table(source, target, edge) FROM STDIN DELIMITER ',' CSV HEADER\"\n",
    "cursor.copy_expert(copy_csv_query, open(my_file, \"r\", encoding=\"utf-8\"))"
   ]
  },
  {
   "cell_type": "code",
   "execution_count": 32,
   "metadata": {},
   "outputs": [],
   "source": [
    "create_undir_short = \"\"\"\n",
    "CREATE TABLE undir_tmp AS\n",
    " SELECT DISTINCT\n",
    "     undir_short_path_table.*,\n",
    "     edge_table.x1,\n",
    "     edge_table.y1\n",
    " FROM\n",
    "     undir_short_path_table\n",
    "  JOIN\n",
    "     edge_table ON undir_short_path_table.source = edge_table.source;\n",
    "\n",
    " CREATE TABLE undir_short AS\n",
    " SELECT DISTINCT\n",
    "     undir_tmp.*,\n",
    "     edge_table.x2,\n",
    "     edge_table.y2\n",
    " FROM\n",
    "     undir_tmp\n",
    "  JOIN\n",
    "     edge_table ON undir_tmp.target = edge_table.target;\n",
    "\n",
    "DROP TABLE undir_tmp;\n",
    "DROP TABLE undir_short_path_table;\n",
    "\n",
    "\n",
    "ALTER TABLE undir_short\n",
    "ADD COLUMN line_geom geometry(LineString, 4326); \n",
    "\n",
    "UPDATE undir_short\n",
    "SET line_geom = ST_SetSRID(ST_MakeLine(ST_SetSRID(ST_MakePoint(x1, y1), 4326), ST_SetSRID(ST_MakePoint(x2, y2), 4326)), 4326);\n",
    "\n",
    "\"\"\"\n"
   ]
  },
  {
   "cell_type": "code",
   "execution_count": 33,
   "metadata": {},
   "outputs": [],
   "source": [
    "cursor.execute(create_undir_short)"
   ]
  },
  {
   "cell_type": "code",
   "execution_count": null,
   "metadata": {},
   "outputs": [],
   "source": []
  },
  {
   "cell_type": "markdown",
   "metadata": {},
   "source": [
    "### dir_short"
   ]
  },
  {
   "cell_type": "code",
   "execution_count": 34,
   "metadata": {},
   "outputs": [],
   "source": [
    "dir_short = \"C:/Users/kisie/Documents/nova-dm/query_results/dijkstra_dir_short.csv\"\n",
    "df = pd.read_csv(dir_short)\n",
    "df['source'] = df['node']\n",
    "df['target'] = df['node'].shift(periods=-1)\n",
    "df = df.dropna()\n",
    "df['target'] = df['target'].astype(np.int64)\n",
    "df[['source', 'target', 'edge']].to_csv('dir_short.csv', index=False)"
   ]
  },
  {
   "cell_type": "code",
   "execution_count": 35,
   "metadata": {},
   "outputs": [],
   "source": [
    "create_dir_short_table = \"\"\"\n",
    "    CREATE TABLE dir_short_path_table (\n",
    "    id BIGSERIAL,\n",
    "    source BIGINT,\n",
    "    target BIGINT,\n",
    "    edge BIGINT\n",
    "    );\n",
    "    \"\"\""
   ]
  },
  {
   "cell_type": "code",
   "execution_count": 36,
   "metadata": {},
   "outputs": [],
   "source": [
    "cursor.execute(create_dir_short_table)"
   ]
  },
  {
   "cell_type": "code",
   "execution_count": 37,
   "metadata": {},
   "outputs": [],
   "source": [
    "my_file = \"C:/Users/kisie/Documents/nova-dm/dir_short.csv\"\n",
    "copy_csv_query = \"COPY dir_short_path_table(source, target, edge) FROM STDIN DELIMITER ',' CSV HEADER\"\n",
    "cursor.copy_expert(copy_csv_query, open(my_file, \"r\", encoding=\"utf-8\"))"
   ]
  },
  {
   "cell_type": "code",
   "execution_count": 38,
   "metadata": {},
   "outputs": [],
   "source": [
    "create_dir_short = \"\"\"\n",
    "CREATE TABLE dir_tmp AS\n",
    " SELECT DISTINCT\n",
    "     dir_short_path_table.*,\n",
    "     edge_table.x1,\n",
    "     edge_table.y1\n",
    " FROM\n",
    "     dir_short_path_table\n",
    "  JOIN\n",
    "     edge_table ON dir_short_path_table.source = edge_table.source;\n",
    "\n",
    " CREATE TABLE dir_short AS\n",
    " SELECT DISTINCT\n",
    "     dir_tmp.*,\n",
    "     edge_table.x2,\n",
    "     edge_table.y2\n",
    " FROM\n",
    "     dir_tmp\n",
    "  JOIN\n",
    "     edge_table ON dir_tmp.target = edge_table.target;\n",
    "\n",
    "DROP TABLE dir_tmp;\n",
    "DROP TABLE dir_short_path_table;\n",
    "\n",
    "\n",
    "ALTER TABLE dir_short\n",
    "ADD COLUMN line_geom geometry(LineString, 4326); \n",
    "\n",
    "UPDATE dir_short\n",
    "SET line_geom = ST_SetSRID(ST_MakeLine(ST_SetSRID(ST_MakePoint(x1, y1), 4326), ST_SetSRID(ST_MakePoint(x2, y2), 4326)), 4326);\n",
    "\n",
    "\"\"\"\n"
   ]
  },
  {
   "cell_type": "code",
   "execution_count": 40,
   "metadata": {},
   "outputs": [],
   "source": [
    "cursor.execute(create_dir_short)"
   ]
  },
  {
   "cell_type": "markdown",
   "metadata": {},
   "source": [
    "### undir_long"
   ]
  },
  {
   "cell_type": "code",
   "execution_count": 41,
   "metadata": {},
   "outputs": [],
   "source": [
    "undir_long = \"C:/Users/kisie/Documents/nova-dm/query_results/dijkstra_undir_long.csv\"\n",
    "df = pd.read_csv(undir_long)\n",
    "df['source'] = df['node']\n",
    "df['target'] = df['node'].shift(periods=-1)\n",
    "df = df.dropna()\n",
    "df['target'] = df['target'].astype(np.int64)\n",
    "df[['source', 'target', 'edge']].to_csv('undir_long.csv', index=False)"
   ]
  },
  {
   "cell_type": "code",
   "execution_count": 44,
   "metadata": {},
   "outputs": [],
   "source": [
    "create_undir_long_table = \"\"\"\n",
    "    CREATE TABLE undir_long_path_table (\n",
    "    id BIGSERIAL,\n",
    "    source BIGINT,\n",
    "    target BIGINT,\n",
    "    edge BIGINT\n",
    "    );\n",
    "    \"\"\""
   ]
  },
  {
   "cell_type": "code",
   "execution_count": 45,
   "metadata": {},
   "outputs": [],
   "source": [
    "cursor.execute(create_undir_long_table)"
   ]
  },
  {
   "cell_type": "code",
   "execution_count": 46,
   "metadata": {},
   "outputs": [],
   "source": [
    "my_file = \"C:/Users/kisie/Documents/nova-dm/undir_long.csv\"\n",
    "copy_csv_query = \"COPY undir_long_path_table(source, target, edge) FROM STDIN DELIMITER ',' CSV HEADER\"\n",
    "cursor.copy_expert(copy_csv_query, open(my_file, \"r\", encoding=\"utf-8\"))"
   ]
  },
  {
   "cell_type": "code",
   "execution_count": 47,
   "metadata": {},
   "outputs": [],
   "source": [
    "create_undir_long = \"\"\"\n",
    "CREATE TABLE undir_tmp AS\n",
    " SELECT DISTINCT\n",
    "     undir_long_path_table.*,\n",
    "     edge_table.x1,\n",
    "     edge_table.y1\n",
    " FROM\n",
    "     undir_long_path_table\n",
    "  JOIN\n",
    "     edge_table ON undir_long_path_table.source = edge_table.source;\n",
    "\n",
    " CREATE TABLE undir_long AS\n",
    " SELECT DISTINCT\n",
    "     undir_tmp.*,\n",
    "     edge_table.x2,\n",
    "     edge_table.y2\n",
    " FROM\n",
    "     undir_tmp\n",
    "  JOIN\n",
    "     edge_table ON undir_tmp.target = edge_table.target;\n",
    "\n",
    "DROP TABLE undir_tmp;\n",
    "DROP TABLE undir_long_path_table;\n",
    "\n",
    "\n",
    "ALTER TABLE undir_long\n",
    "ADD COLUMN line_geom geometry(LineString, 4326); \n",
    "\n",
    "UPDATE undir_long\n",
    "SET line_geom = ST_SetSRID(ST_MakeLine(ST_SetSRID(ST_MakePoint(x1, y1), 4326), ST_SetSRID(ST_MakePoint(x2, y2), 4326)), 4326);\n",
    "\n",
    "\"\"\"\n"
   ]
  },
  {
   "cell_type": "code",
   "execution_count": 48,
   "metadata": {},
   "outputs": [],
   "source": [
    "cursor.execute(create_undir_long)"
   ]
  },
  {
   "cell_type": "markdown",
   "metadata": {},
   "source": [
    "### dir_long"
   ]
  },
  {
   "cell_type": "code",
   "execution_count": 50,
   "metadata": {},
   "outputs": [],
   "source": [
    "dir_long = \"C:/Users/kisie/Documents/nova-dm/query_results/dijkstra_dir_long.csv\"\n",
    "df = pd.read_csv(dir_long)\n",
    "df['source'] = df['node']\n",
    "df['target'] = df['node'].shift(periods=-1)\n",
    "df = df.dropna()\n",
    "df['target'] = df['target'].astype(np.int64)\n",
    "df[['source', 'target', 'edge']].to_csv('dir_long.csv', index=False)"
   ]
  },
  {
   "cell_type": "code",
   "execution_count": 51,
   "metadata": {},
   "outputs": [],
   "source": [
    "create_dir_long_table = \"\"\"\n",
    "    CREATE TABLE dir_long_path_table (\n",
    "    id BIGSERIAL,\n",
    "    source BIGINT,\n",
    "    target BIGINT,\n",
    "    edge BIGINT\n",
    "    );\n",
    "    \"\"\""
   ]
  },
  {
   "cell_type": "code",
   "execution_count": 52,
   "metadata": {},
   "outputs": [],
   "source": [
    "cursor.execute(create_dir_long_table)"
   ]
  },
  {
   "cell_type": "code",
   "execution_count": 53,
   "metadata": {},
   "outputs": [],
   "source": [
    "my_file = \"C:/Users/kisie/Documents/nova-dm/dir_long.csv\"\n",
    "copy_csv_query = \"COPY dir_long_path_table(source, target, edge) FROM STDIN DELIMITER ',' CSV HEADER\"\n",
    "cursor.copy_expert(copy_csv_query, open(my_file, \"r\", encoding=\"utf-8\"))"
   ]
  },
  {
   "cell_type": "code",
   "execution_count": 54,
   "metadata": {},
   "outputs": [],
   "source": [
    "create_dir_long = \"\"\"\n",
    "CREATE TABLE dir_tmp AS\n",
    " SELECT DISTINCT\n",
    "     dir_long_path_table.*,\n",
    "     edge_table.x1,\n",
    "     edge_table.y1\n",
    " FROM\n",
    "     dir_long_path_table\n",
    "  JOIN\n",
    "     edge_table ON dir_long_path_table.source = edge_table.source;\n",
    "\n",
    " CREATE TABLE dir_long AS\n",
    " SELECT DISTINCT\n",
    "     dir_tmp.*,\n",
    "     edge_table.x2,\n",
    "     edge_table.y2\n",
    " FROM\n",
    "     dir_tmp\n",
    "  JOIN\n",
    "     edge_table ON dir_tmp.target = edge_table.target;\n",
    "\n",
    "DROP TABLE dir_tmp;\n",
    "DROP TABLE dir_long_path_table;\n",
    "\n",
    "\n",
    "ALTER TABLE dir_long\n",
    "ADD COLUMN line_geom geometry(LineString, 4326); \n",
    "\n",
    "UPDATE dir_long\n",
    "SET line_geom = ST_SetSRID(ST_MakeLine(ST_SetSRID(ST_MakePoint(x1, y1), 4326), ST_SetSRID(ST_MakePoint(x2, y2), 4326)), 4326);\n",
    "\n",
    "\"\"\"\n"
   ]
  },
  {
   "cell_type": "code",
   "execution_count": 55,
   "metadata": {},
   "outputs": [],
   "source": [
    "cursor.execute(create_dir_long)"
   ]
  },
  {
   "cell_type": "code",
   "execution_count": 49,
   "metadata": {},
   "outputs": [],
   "source": [
    "undir_long_fin = \"\"\"SELECT st_union(line_geom) from undir_long;\"\"\"\n",
    "cursor.execute(undir_long_fin)\n",
    "\n",
    "dir_long_fin = \"\"\"SELECT st_union(line_geom) from dir_long;\"\"\"\n",
    "cursor.execute(dir_long_fin)"
   ]
  }
 ],
 "metadata": {
  "kernelspec": {
   "display_name": "venv",
   "language": "python",
   "name": "python3"
  },
  "language_info": {
   "codemirror_mode": {
    "name": "ipython",
    "version": 3
   },
   "file_extension": ".py",
   "mimetype": "text/x-python",
   "name": "python",
   "nbconvert_exporter": "python",
   "pygments_lexer": "ipython3",
   "version": "3.10.11"
  }
 },
 "nbformat": 4,
 "nbformat_minor": 2
}
