{
 "cells": [
  {
   "cell_type": "markdown",
   "metadata": {},
   "source": [
    "# Visualization of the paths obtained, stored in csv files that were saved after executing queries"
   ]
  },
  {
   "cell_type": "code",
   "execution_count": 1,
   "metadata": {},
   "outputs": [],
   "source": [
    "import pandas as pd\n",
    "import numpy as np\n",
    "import psycopg2"
   ]
  },
  {
   "cell_type": "code",
   "execution_count": 2,
   "metadata": {},
   "outputs": [],
   "source": [
    "conn = psycopg2.connect(\n",
    "    host=\"localhost\",\n",
    "    database=\"krakow_90\",\n",
    "    user=\"postgres\",\n",
    "    password=\"postgres\")\n",
    "\n",
    "conn.autocommit = True\n",
    "cursor = conn.cursor() "
   ]
  },
  {
   "cell_type": "code",
   "execution_count": 11,
   "metadata": {},
   "outputs": [],
   "source": [
    "def set_paths(mode, length):\n",
    "    original_input_path = f\"C:/Users/kisie/Documents/nova-dm/query_results/dijkstra_{mode}_{length}.csv\"\n",
    "    transformed_input_path = f\"C:/Users/kisie/Documents/nova-dm/{mode}_{length}.csv\"\n",
    "    return original_input_path, transformed_input_path\n"
   ]
  },
  {
   "cell_type": "code",
   "execution_count": 12,
   "metadata": {},
   "outputs": [],
   "source": [
    "def transform_csv_file(input_path, output_path):\n",
    "    df = pd.read_csv(input_path)\n",
    "    df['source'] = df['node']\n",
    "    df['target'] = df['node'].shift(periods=-1)\n",
    "    df = df.dropna()\n",
    "    df['target'] = df['target'].astype(np.int64)\n",
    "    df[['source', 'target', 'edge']].to_csv(output_path, index=False)"
   ]
  },
  {
   "cell_type": "code",
   "execution_count": 13,
   "metadata": {},
   "outputs": [],
   "source": [
    "def create_table(mode, length):\n",
    "    create_table = f\"\"\"\n",
    "        CREATE TABLE {mode}_{length}_path_table (\n",
    "        id BIGSERIAL,\n",
    "        source BIGINT,\n",
    "        target BIGINT,\n",
    "        edge BIGINT\n",
    "        );\n",
    "        \"\"\"\n",
    "        \n",
    "    return create_table"
   ]
  },
  {
   "cell_type": "code",
   "execution_count": 14,
   "metadata": {},
   "outputs": [],
   "source": [
    "def load_to_database(input_path, mode, length):\n",
    "    copy_csv_query = f\"COPY {mode}_{length}_path_table(source, target, edge) FROM STDIN DELIMITER ',' CSV HEADER\"\n",
    "    cursor.copy_expert(copy_csv_query, open(input_path, \"r\", encoding=\"utf-8\"))"
   ]
  },
  {
   "cell_type": "code",
   "execution_count": 24,
   "metadata": {},
   "outputs": [],
   "source": [
    "def create_final_table(mode, length):\n",
    "\n",
    "    create_final_table = f\"\"\"\n",
    "    CREATE TABLE {mode}_tmp AS\n",
    "    SELECT DISTINCT\n",
    "        {mode}_{length}_path_table.*,\n",
    "        edge_table.x1,\n",
    "        edge_table.y1\n",
    "    FROM\n",
    "        {mode}_{length}_path_table\n",
    "    JOIN\n",
    "        edge_table ON {mode}_{length}_path_table.source = edge_table.source;\n",
    "\n",
    "    CREATE TABLE {mode}_{length} AS\n",
    "    SELECT DISTINCT\n",
    "        {mode}_tmp.*,\n",
    "        edge_table.x2,\n",
    "        edge_table.y2\n",
    "    FROM\n",
    "        {mode}_tmp\n",
    "    JOIN\n",
    "        edge_table ON {mode}_tmp.target = edge_table.target;\n",
    "\n",
    "    DROP TABLE {mode}_tmp;\n",
    "    DROP TABLE {mode}_{length}_path_table;\n",
    "\n",
    "\n",
    "    ALTER TABLE {mode}_{length}\n",
    "    ADD COLUMN line_geom geometry(LineString, 4326); \n",
    "\n",
    "    UPDATE {mode}_{length}\n",
    "    SET line_geom = ST_SetSRID(ST_MakeLine(ST_SetSRID(ST_MakePoint(x1, y1), 4326), ST_SetSRID(ST_MakePoint(x2, y2), 4326)), 4326);\n",
    "\n",
    "    \"\"\"\n",
    "    \n",
    "    return create_final_table\n"
   ]
  },
  {
   "cell_type": "code",
   "execution_count": 16,
   "metadata": {},
   "outputs": [],
   "source": [
    "def select_final_result(mode, length):\n",
    "    return f\"\"\"SELECT st_union(line_geom) from {mode}_{length};\"\"\""
   ]
  },
  {
   "cell_type": "markdown",
   "metadata": {},
   "source": [
    "### undirected, short"
   ]
  },
  {
   "cell_type": "code",
   "execution_count": 19,
   "metadata": {},
   "outputs": [],
   "source": [
    "mode = \"undir\"\n",
    "length = \"short\"\n",
    "\n",
    "original_input_path, transformed_input_path = set_paths(mode, length)"
   ]
  },
  {
   "cell_type": "code",
   "execution_count": 25,
   "metadata": {},
   "outputs": [],
   "source": [
    "transform_csv_file(original_input_path, transformed_input_path)\n",
    "\n",
    "cursor.execute(create_table(mode, length))\n",
    "load_to_database(transformed_input_path, mode, length)\n",
    "cursor.execute(create_final_table(mode, length))"
   ]
  },
  {
   "cell_type": "markdown",
   "metadata": {},
   "source": [
    "### directed, short"
   ]
  },
  {
   "cell_type": "code",
   "execution_count": 26,
   "metadata": {},
   "outputs": [],
   "source": [
    "mode = \"dir\"\n",
    "length = \"short\"\n",
    "\n",
    "original_input_path, transformed_input_path = set_paths(mode, length)"
   ]
  },
  {
   "cell_type": "code",
   "execution_count": 27,
   "metadata": {},
   "outputs": [],
   "source": [
    "transform_csv_file(original_input_path, transformed_input_path)\n",
    "\n",
    "cursor.execute(create_table(mode, length))\n",
    "load_to_database(transformed_input_path, mode, length)\n",
    "cursor.execute(create_final_table(mode, length))"
   ]
  },
  {
   "cell_type": "markdown",
   "metadata": {},
   "source": [
    "### undirected, long"
   ]
  },
  {
   "cell_type": "code",
   "execution_count": 28,
   "metadata": {},
   "outputs": [],
   "source": [
    "mode = \"undir\"\n",
    "length = \"long\"\n",
    "\n",
    "original_input_path, transformed_input_path = set_paths(mode, length)"
   ]
  },
  {
   "cell_type": "code",
   "execution_count": 29,
   "metadata": {},
   "outputs": [],
   "source": [
    "transform_csv_file(original_input_path, transformed_input_path)\n",
    "\n",
    "cursor.execute(create_table(mode, length))\n",
    "load_to_database(transformed_input_path, mode, length)\n",
    "cursor.execute(create_final_table(mode, length))"
   ]
  },
  {
   "cell_type": "markdown",
   "metadata": {},
   "source": [
    "### directed, long"
   ]
  },
  {
   "cell_type": "code",
   "execution_count": 30,
   "metadata": {},
   "outputs": [],
   "source": [
    "mode = \"dir\"\n",
    "length = \"long\"\n",
    "\n",
    "original_input_path, transformed_input_path = set_paths(mode, length)"
   ]
  },
  {
   "cell_type": "code",
   "execution_count": 31,
   "metadata": {},
   "outputs": [],
   "source": [
    "transform_csv_file(original_input_path, transformed_input_path)\n",
    "\n",
    "cursor.execute(create_table(mode, length))\n",
    "load_to_database(transformed_input_path, mode, length)\n",
    "cursor.execute(create_final_table(mode, length))"
   ]
  },
  {
   "cell_type": "markdown",
   "metadata": {},
   "source": []
  }
 ],
 "metadata": {
  "kernelspec": {
   "display_name": "venv",
   "language": "python",
   "name": "python3"
  },
  "language_info": {
   "codemirror_mode": {
    "name": "ipython",
    "version": 3
   },
   "file_extension": ".py",
   "mimetype": "text/x-python",
   "name": "python",
   "nbconvert_exporter": "python",
   "pygments_lexer": "ipython3",
   "version": "3.10.11"
  }
 },
 "nbformat": 4,
 "nbformat_minor": 2
}
